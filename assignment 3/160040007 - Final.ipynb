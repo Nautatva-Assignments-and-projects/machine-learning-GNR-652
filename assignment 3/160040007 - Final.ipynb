{
 "cells": [
  {
   "cell_type": "code",
   "execution_count": 1,
   "metadata": {},
   "outputs": [],
   "source": [
    "from scipy.io import loadmat\n",
    "import numpy as np\n",
    "import math\n",
    "import random"
   ]
  },
  {
   "cell_type": "code",
   "execution_count": 2,
   "metadata": {},
   "outputs": [
    {
     "data": {
      "text/plain": [
       "(145, 145, 200)"
      ]
     },
     "execution_count": 2,
     "metadata": {},
     "output_type": "execute_result"
    }
   ],
   "source": [
    "# load indian pines corrected in a array\n",
    "data=loadmat('Indian_pines_corrected.mat');\n",
    "data=data['indian_pines_corrected'];\n",
    "data.shape\n",
    "\n",
    "#normailize data\n",
    "for j in range(data.shape[1]):\n",
    "    maxv=np.max(data[:,j])\n",
    "    minv=np.min(data[:,j])\n",
    "    data[:,j]=(data[:,j]-maxv)/(maxv-minv)\n",
    "data.shape"
   ]
  },
  {
   "cell_type": "code",
   "execution_count": 3,
   "metadata": {},
   "outputs": [
    {
     "data": {
      "text/plain": [
       "(145, 145)"
      ]
     },
     "execution_count": 3,
     "metadata": {},
     "output_type": "execute_result"
    }
   ],
   "source": [
    "# load indian pines gt in an array\n",
    "data2=loadmat('Indian_pines_gt.mat');\n",
    "data2=data2['indian_pines_gt'];\n",
    "data2.shape\n",
    "# plt.imshow(data2)\n",
    "# plt.show()"
   ]
  },
  {
   "cell_type": "code",
   "execution_count": 4,
   "metadata": {},
   "outputs": [
    {
     "data": {
      "text/plain": [
       "array([[3, 3, 3, ..., 0, 0, 0],\n",
       "       [3, 3, 3, ..., 0, 0, 0],\n",
       "       [3, 3, 3, ..., 0, 0, 0],\n",
       "       ...,\n",
       "       [0, 0, 0, ..., 0, 0, 0],\n",
       "       [0, 0, 0, ..., 0, 0, 0],\n",
       "       [0, 0, 0, ..., 0, 0, 0]], dtype=uint8)"
      ]
     },
     "execution_count": 4,
     "metadata": {},
     "output_type": "execute_result"
    }
   ],
   "source": [
    "data2"
   ]
  },
  {
   "cell_type": "code",
   "execution_count": 7,
   "metadata": {},
   "outputs": [],
   "source": [
    "data =  np.reshape(data,(145*145, 200))\n",
    "data2 = np.reshape(data2,(145*145,1))"
   ]
  },
  {
   "cell_type": "code",
   "execution_count": 8,
   "metadata": {},
   "outputs": [
    {
     "data": {
      "text/plain": [
       "(21025, 1)"
      ]
     },
     "execution_count": 8,
     "metadata": {},
     "output_type": "execute_result"
    }
   ],
   "source": [
    "data.shape\n",
    "data2.shape"
   ]
  },
  {
   "cell_type": "code",
   "execution_count": 9,
   "metadata": {},
   "outputs": [
    {
     "data": {
      "text/plain": [
       "(21025, 201)"
      ]
     },
     "execution_count": 9,
     "metadata": {},
     "output_type": "execute_result"
    }
   ],
   "source": [
    "new_data = np.hstack((data, data2))\n",
    "new_data.shape"
   ]
  },
  {
   "cell_type": "code",
   "execution_count": 10,
   "metadata": {},
   "outputs": [],
   "source": [
    "# flatans.shape\n",
    "X_train = np.zeros((1, 201))\n",
    "X_test = np.zeros((1, 201))\n",
    "for i in range(16):\n",
    "    index = np.where(new_data[:,200]==i+1)\n",
    "    index = np.array(index)\n",
    "    X_train = np.vstack((X_train, new_data[index[0, 0:int(index.shape[1]/2)], :]))\n",
    "    X_test = np.vstack((X_test, new_data[index[0, int(index.shape[1]/2):], :]))\n",
    "    X_train = X_train[1:,:]\n",
    "    X_test = X_test[1:,:]"
   ]
  },
  {
   "cell_type": "code",
   "execution_count": 11,
   "metadata": {},
   "outputs": [
    {
     "data": {
      "text/plain": [
       "(5106, 201)"
      ]
     },
     "execution_count": 11,
     "metadata": {},
     "output_type": "execute_result"
    }
   ],
   "source": [
    "X_train.shape"
   ]
  },
  {
   "cell_type": "code",
   "execution_count": 10,
   "metadata": {},
   "outputs": [
    {
     "data": {
      "text/plain": [
       "(5113, 201)"
      ]
     },
     "execution_count": 10,
     "metadata": {},
     "output_type": "execute_result"
    }
   ],
   "source": [
    "X_test.shape"
   ]
  },
  {
   "cell_type": "code",
   "execution_count": 11,
   "metadata": {},
   "outputs": [],
   "source": [
    "from operator import itemgetter\n",
    "\n",
    "class Softmax:\n",
    "    def __init__(self, batch_size, epochs, learning_rate, reg_strength):\n",
    "        self.W = None\n",
    "        self.batch_size = batch_size\n",
    "        self.epochs = epochs\n",
    "        self.learning_rate = learning_rate\n",
    "        self.reg_strength = reg_strength\n",
    "        self.weight_update = 'sgd'\n",
    "\n",
    "    def train(self, X, y):\n",
    "        n_features = X.shape[1]\n",
    "        n_classes = y.max() + 1\n",
    "        self.W = np.random.randn(n_features, n_classes) / np.sqrt(n_features/2)\n",
    "        config = {'reg_strength': self.reg_strength, 'batch_size': self.batch_size,\n",
    "                'learning_rate': self.learning_rate }\n",
    "\n",
    "        graph = np.zeros(self.epochs)\n",
    "        for epoch in range(self.epochs):\n",
    "            loss, config = self.sgd(X, y, config)\n",
    "            graph[epoch] = loss\n",
    "#             print(\"Epoch: %s, Loss: %s\" % (epoch, loss))\n",
    "            return graph\n",
    "\n",
    "    def predict(self, X):\n",
    "        return np.argmax(X.dot(self.W), 1)\n",
    "\n",
    "    def loss(self, X, y, W, reg_strength):\n",
    "        sample_size = X.shape[0]\n",
    "        predictions = X.dot(W)\n",
    "\n",
    "        predictions -= predictions.max(axis=1).reshape([-1, 1])\n",
    "        softmax = math.e**predictions\n",
    "        softmax /= softmax.sum(axis=1).reshape([-1, 1])\n",
    "        loss = -np.log(softmax[np.arange(len(softmax)), y]).sum() \n",
    "        loss /= sample_size\n",
    "        loss += 0.5 * reg_strength * (W**2).sum()\n",
    "\n",
    "        softmax[np.arange(len(softmax)), y] -= 1\n",
    "        dW = (X.T.dot(softmax) / sample_size) + (reg_strength * W)\n",
    "        return loss, dW\n",
    "\n",
    "    # Schotastic gradient descent\n",
    "    def sgd(self, X, y, config):\n",
    "        items = itemgetter('learning_rate', 'batch_size', 'reg_strength')(config)\n",
    "        learning_rate, batch_size, reg_strength = items\n",
    "         \n",
    "        random_indices = random.sample(range(X.shape[0]), batch_size)\n",
    "        X_batch = X[random_indices]\n",
    "        y_batch = y[random_indices]\n",
    "        loss, dW = self.loss(X_batch, y_batch, self.W, reg_strength)\n",
    "    \n",
    "        self.W -= learning_rate * dW\n",
    "        return loss, config"
   ]
  },
  {
   "cell_type": "code",
   "execution_count": 12,
   "metadata": {},
   "outputs": [],
   "source": [
    "X_train_data = X_train[:,0:-1]\n",
    "Y_train = X_train[:, 200].astype(int)\n",
    "\n",
    "X_test_data = X_test[:,0:-1]\n",
    "Y_test = X_test[:, 200].astype(int)"
   ]
  },
  {
   "cell_type": "code",
   "execution_count": 13,
   "metadata": {},
   "outputs": [
    {
     "data": {
      "text/plain": [
       "(5106, 200)"
      ]
     },
     "execution_count": 13,
     "metadata": {},
     "output_type": "execute_result"
    }
   ],
   "source": [
    "X_train_data.shape"
   ]
  },
  {
   "cell_type": "code",
   "execution_count": 14,
   "metadata": {},
   "outputs": [],
   "source": [
    "reg_strength = 1e-4\n",
    "batch_size = X_train_data.shape[0]\n",
    "epochs = 1000\n",
    "learning_rate = 0.00001\n",
    "clf = Softmax(batch_size=batch_size, epochs=epochs, learning_rate=learning_rate, reg_strength=reg_strength)\n",
    "graph = clf.train(X_train_data, Y_train)\n",
    "y_predict = clf.predict(X_test_data)\n",
    "# print np.mean(np.equal(y, pred))"
   ]
  },
  {
   "cell_type": "code",
   "execution_count": 15,
   "metadata": {},
   "outputs": [
    {
     "name": "stdout",
     "output_type": "stream",
     "text": [
      "103 of 5113 predictions correct\n"
     ]
    }
   ],
   "source": [
    "correct = np.sum(y_predict == Y_test)\n",
    "print(\"%d of %d predictions correct\" % (correct, len(y_predict)))"
   ]
  }
 ],
 "metadata": {
  "kernelspec": {
   "display_name": "Python 3",
   "language": "python",
   "name": "python3"
  },
  "language_info": {
   "codemirror_mode": {
    "name": "ipython",
    "version": 3
   },
   "file_extension": ".py",
   "mimetype": "text/x-python",
   "name": "python",
   "nbconvert_exporter": "python",
   "pygments_lexer": "ipython3",
   "version": "3.7.2"
  }
 },
 "nbformat": 4,
 "nbformat_minor": 2
}
