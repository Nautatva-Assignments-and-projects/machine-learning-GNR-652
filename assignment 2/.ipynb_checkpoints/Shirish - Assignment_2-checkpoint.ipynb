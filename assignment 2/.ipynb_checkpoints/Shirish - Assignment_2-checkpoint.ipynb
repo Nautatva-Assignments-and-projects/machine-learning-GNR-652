{
 "cells": [
  {
   "cell_type": "code",
   "execution_count": 1,
   "metadata": {},
   "outputs": [],
   "source": [
    "import numpy as np\n",
    "import pandas as pd\n",
    "from cvxopt import matrix as cvxopt_matrix\n",
    "from cvxopt import solvers as cvxopt_solvers"
   ]
  },
  {
   "cell_type": "code",
   "execution_count": 2,
   "metadata": {},
   "outputs": [],
   "source": [
    "df = pd.read_csv(\"creditcard.csv\")"
   ]
  },
  {
   "cell_type": "code",
   "execution_count": 3,
   "metadata": {},
   "outputs": [],
   "source": [
    "df['Class']=df['Class'].replace(to_replace = 0 , value = -1)"
   ]
  },
  {
   "cell_type": "code",
   "execution_count": 4,
   "metadata": {},
   "outputs": [],
   "source": [
    "df = df.drop(['Time','Amount'],axis =1)"
   ]
  },
  {
   "cell_type": "code",
   "execution_count": 5,
   "metadata": {},
   "outputs": [],
   "source": [
    "df1 = df.sample(200)"
   ]
  },
  {
   "cell_type": "code",
   "execution_count": 6,
   "metadata": {},
   "outputs": [],
   "source": [
    "train = df1.sample(frac = 0.8)\n",
    "test = df1.drop (train.index)"
   ]
  },
  {
   "cell_type": "code",
   "execution_count": 7,
   "metadata": {},
   "outputs": [],
   "source": [
    "X_train = train.iloc[:, :-1]\n",
    "X_test  = test.iloc[:, :-1]\n",
    "y_train = train['Class']\n",
    "y_test  = test['Class']"
   ]
  },
  {
   "cell_type": "code",
   "execution_count": 8,
   "metadata": {},
   "outputs": [],
   "source": [
    "def fit(X,y):\n",
    "    m,n = X.shape\n",
    "    y = y.values.reshape(-1,1) * 1.\n",
    "    X_dash = y * X\n",
    "    H = np.dot(X_dash , X_dash.T) * 1.\n",
    "    P = cvxopt_matrix(H)\n",
    "    q = cvxopt_matrix(-np.ones((m, 1)))\n",
    "    G = cvxopt_matrix(-np.eye(m))\n",
    "    h = cvxopt_matrix(np.zeros(m))\n",
    "    A = cvxopt_matrix(y.reshape(1, -1))\n",
    "    b = cvxopt_matrix(np.zeros(1))\n",
    "    sol = cvxopt_solvers.qp(P, q, G, h, A, b)\n",
    "    alphas = np.array(sol['x'])\n",
    "    return alphas"
   ]
  },
  {
   "cell_type": "code",
   "execution_count": 9,
   "metadata": {},
   "outputs": [
    {
     "name": "stdout",
     "output_type": "stream",
     "text": [
      "     pcost       dcost       gap    pres   dres\n",
      " 0:  3.4547e-15  2.8422e-14  2e+02  1e+01  1e+00\n",
      " 1: -3.8263e-15 -2.2204e-16  2e+00  1e-01  1e-02\n",
      " 2: -3.3993e-17  0.0000e+00  2e-02  1e-03  1e-04\n",
      " 3: -3.3957e-19  5.4210e-20  2e-04  1e-05  1e-06\n",
      " 4: -3.3957e-21  0.0000e+00  2e-06  1e-07  1e-08\n",
      " 5: -3.3957e-23  0.0000e+00  2e-08  1e-09  1e-10\n",
      "Optimal solution found.\n"
     ]
    }
   ],
   "source": [
    "alphas = fit(X_train,y_train)\n",
    "w = np.sum(alphas * y_train[:, None] * X_train, axis = 0)"
   ]
  },
  {
   "cell_type": "code",
   "execution_count": 10,
   "metadata": {},
   "outputs": [],
   "source": [
    "cond = (alphas > 0).reshape(-1)\n",
    "b = y_train[cond] - np.dot(X_train[cond], w)"
   ]
  },
  {
   "cell_type": "code",
   "execution_count": 11,
   "metadata": {},
   "outputs": [],
   "source": [
    "b=b.values.reshape(-1,1)"
   ]
  },
  {
   "cell_type": "code",
   "execution_count": 12,
   "metadata": {},
   "outputs": [],
   "source": [
    "b_val=b[0][0]"
   ]
  },
  {
   "cell_type": "code",
   "execution_count": 13,
   "metadata": {},
   "outputs": [
    {
     "name": "stdout",
     "output_type": "stream",
     "text": [
      "     pcost       dcost       gap    pres   dres\n",
      " 0:  1.1166e-15  0.0000e+00  4e+01  6e+00  1e+00\n",
      " 1: -2.4135e-16 -5.5511e-17  4e-01  6e-02  1e-02\n",
      " 2: -1.6346e-18  0.0000e+00  4e-03  6e-04  1e-04\n",
      " 3: -1.6465e-20 -6.7763e-21  4e-05  6e-06  1e-06\n",
      " 4: -1.6466e-22 -5.2940e-23  4e-07  6e-08  1e-08\n",
      " 5: -1.6466e-24 -8.2718e-25  4e-09  6e-10  1e-10\n",
      "Optimal solution found.\n"
     ]
    }
   ],
   "source": [
    "alphas=fit(X_test,y_test)"
   ]
  },
  {
   "cell_type": "code",
   "execution_count": 14,
   "metadata": {},
   "outputs": [],
   "source": [
    "w = np.sum(alphas * y_test[:, None] * X_test, axis = 0)"
   ]
  },
  {
   "cell_type": "code",
   "execution_count": 15,
   "metadata": {},
   "outputs": [],
   "source": [
    "a = sum ((np.dot(w,X_test.T)+b_val)<0)"
   ]
  },
  {
   "cell_type": "code",
   "execution_count": 16,
   "metadata": {},
   "outputs": [],
   "source": [
    "b = sum (y_test == -1)"
   ]
  },
  {
   "cell_type": "code",
   "execution_count": 17,
   "metadata": {},
   "outputs": [
    {
     "name": "stdout",
     "output_type": "stream",
     "text": [
      "Accuracy is :100.0\n"
     ]
    }
   ],
   "source": [
    "accuracy = a/b*100\n",
    "print(\"Accuracy is :\"+str(accuracy))"
   ]
  }
 ],
 "metadata": {
  "kernelspec": {
   "display_name": "Python 3",
   "language": "python",
   "name": "python3"
  },
  "language_info": {
   "codemirror_mode": {
    "name": "ipython",
    "version": 3
   },
   "file_extension": ".py",
   "mimetype": "text/x-python",
   "name": "python",
   "nbconvert_exporter": "python",
   "pygments_lexer": "ipython3",
   "version": "3.7.1"
  }
 },
 "nbformat": 4,
 "nbformat_minor": 2
}
